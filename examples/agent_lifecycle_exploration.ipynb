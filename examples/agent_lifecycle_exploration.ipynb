{
 "cells": [
  {
   "cell_type": "raw",
   "metadata": {
    "vscode": {
     "languageId": "raw"
    }
   },
   "source": [
    "# Agent Lifecycle Exploration\n",
    "\n",
    "This notebook provides an interactive exploration of the complete agent lifecycle:\n",
    "- Task definition with setup and evaluation\n",
    "- Step-by-step agent execution\n",
    "- Tool call inspection\n",
    "- Result analysis\n",
    "\n",
    "Run each cell to see how agents work under the hood!\n"
   ]
  },
  {
   "cell_type": "code",
   "execution_count": null,
   "metadata": {},
   "outputs": [],
   "source": [
    "# Setup and imports\n",
    "import asyncio\n",
    "import json\n",
    "from IPython.display import display, HTML, Image\n",
    "import hud\n",
    "from hud.datasets import TaskConfig\n",
    "from hud.mcp import ClaudeMCPAgent\n",
    "from hud.mcp.client import MCPClient\n",
    "\n",
    "print(\"✅ Imports complete\")"
   ]
  }
 ],
 "metadata": {
  "language_info": {
   "name": "python"
  }
 },
 "nbformat": 4,
 "nbformat_minor": 2
}
