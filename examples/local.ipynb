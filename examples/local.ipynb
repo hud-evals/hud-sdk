{
 "cells": [
  {
   "cell_type": "code",
   "execution_count": null,
   "id": "e2853103",
   "metadata": {},
   "outputs": [],
   "source": [
    "from hud import gym\n",
    "from hud.types import CustomGym\n",
    "from pathlib import Path\n",
    "from hud.utils.config import FunctionConfig\n",
    "from IPython.display import display"
   ]
  },
  {
   "cell_type": "code",
   "execution_count": null,
   "id": "205fb04f",
   "metadata": {},
   "outputs": [],
   "source": [
    "spec = CustomGym(location=\"local\", image_or_build_context=Path(\"environments/novnc_ubuntu\"))\n",
    "env = await gym.make(spec)"
   ]
  },
  {
   "cell_type": "code",
   "execution_count": null,
   "id": "55a311cf",
   "metadata": {},
   "outputs": [],
   "source": [
    "response, _, _ = await env.client.invoke(\n",
    "    FunctionConfig(function=\"step\", args=[{\"type\": \"type\", \"text\": \"hello world\"}])\n",
    ")"
   ]
  },
  {
   "cell_type": "code",
   "execution_count": null,
   "id": "6d922fe4",
   "metadata": {
    "lines_to_next_cell": 2
   },
   "outputs": [],
   "source": [
    "display(response[\"observation\"][\"screenshot\"])"
   ]
  }
 ],
 "metadata": {
  "jupytext": {
   "cell_metadata_filter": "-all",
   "main_language": "python",
   "notebook_metadata_filter": "-all"
  }
 },
 "nbformat": 4,
 "nbformat_minor": 5
}
